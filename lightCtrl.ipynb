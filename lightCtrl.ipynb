{
 "cells": [
  {
   "cell_type": "code",
   "execution_count": null,
   "metadata": {},
   "outputs": [],
   "source": [
    "pip install ipywidgets"
   ]
  },
  {
   "cell_type": "code",
   "execution_count": null,
   "metadata": {},
   "outputs": [],
   "source": [
    "pip install pyserial"
   ]
  },
  {
   "cell_type": "code",
   "execution_count": 1,
   "metadata": {
    "scrolled": false
   },
   "outputs": [
    {
     "data": {
      "text/markdown": [
       "# lightCtrl"
      ],
      "text/plain": [
       "<IPython.core.display.Markdown object>"
      ]
     },
     "metadata": {},
     "output_type": "display_data"
    },
    {
     "data": {
      "application/vnd.jupyter.widget-view+json": {
       "model_id": "9cffd545ee114feeaca128699513f868",
       "version_major": 2,
       "version_minor": 0
      },
      "text/plain": [
       "VBox(children=(VBox(children=(Checkbox(value=False, description='LED 0'), Checkbox(value=False, description='L…"
      ]
     },
     "metadata": {},
     "output_type": "display_data"
    }
   ],
   "source": [
    "from IPython.display import display, Markdown, clear_output\n",
    "import ipywidgets as widgets\n",
    "import time\n",
    "import serial\n",
    "\n",
    "text = widgets.Text(\n",
    "       value='0',\n",
    "       description='Time:', )\n",
    "led0 = widgets.Checkbox(value = False,\n",
    "           description='LED 0',)\n",
    "led1 = widgets.Checkbox(value = False,\n",
    "           description='LED 1',)\n",
    "led2 = widgets.Checkbox(value = False,\n",
    "           description='LED 2',)\n",
    "led3 = widgets.Checkbox(value = False,\n",
    "           description='LED 3',)\n",
    "btn1 = widgets.Button(description='Send')\n",
    "btn2 = widgets.Button(description='Light Uptime')\n",
    "out = widgets.Output()\n",
    "\n",
    "leds = [0,0,0,0,0,0,0,0]\n",
    "\n",
    "def on_send_clicked(_):\n",
    "      # \"linking function with output\"\n",
    "      with out:\n",
    "        if(led0.value is True):\n",
    "            leds[0] = 1\n",
    "            leds[4] = 1\n",
    "        if(led0.value is False):\n",
    "            leds[0] = 1\n",
    "            leds[4] = 0\n",
    "        if(led1.value is True):\n",
    "            leds[1] = 1\n",
    "            leds[5] = 1\n",
    "        if(led1.value is False):\n",
    "            leds[1] = 1\n",
    "            leds[5] = 0        \n",
    "        if(led2.value is True):\n",
    "            leds[2] = 1\n",
    "            leds[6] = 1\n",
    "        if(led2.value is False):\n",
    "            leds[2] = 1\n",
    "            leds[6] = 0\n",
    "        if(led3.value is True):\n",
    "            leds[3] = 1\n",
    "            leds[7] = 1\n",
    "        if(led3.value is False):\n",
    "            leds[3] = 1\n",
    "            leds[7] = 0\n",
    "        clear_output()\n",
    "        \n",
    "        # send data to Zybo over UART \n",
    "        strled = ''.join([str(elem) for elem in leds])\n",
    "        bitled = chr(int(strled, 2))\n",
    "\n",
    "        ser=serial.Serial(\n",
    "        port= 'COM6', #PMOD BT2\n",
    "        baudrate=115200,\n",
    "        parity=serial.PARITY_NONE,\n",
    "        stopbits=serial.STOPBITS_ONE,\n",
    "        bytesize=serial.EIGHTBITS,\n",
    "        timeout=1\n",
    "        )\n",
    "        ser.write(0) # start bit\n",
    "        ser.write(bytes(bitled.encode())) #LED commands\n",
    "        ser.write(0) # stop bit\n",
    "        #time.sleep(5)\n",
    "        ser.close\n",
    "        \n",
    "def on_light_clicked(_):\n",
    "    ser=serial.Serial(\n",
    "    port ='COM5', # PMOD UART\n",
    "    baudrate=115200,\n",
    "    parity=serial.PARITY_NONE,\n",
    "    stopbits=serial.STOPBITS_ONE,\n",
    "    bytesize=serial.EIGHTBITS,\n",
    "    timeout=1\n",
    "    )\n",
    "    s = ser.read()\n",
    "    #time.sleep(5)\n",
    "    ser.close\n",
    "    s = ord(s)    \n",
    "    text.value = str(s) + ' secs'\n",
    "        \n",
    "# linking buttons and function together using a button's method\n",
    "btn1.on_click(on_send_clicked)\n",
    "btn2.on_click(on_light_clicked)\n",
    "\n",
    "# display dashboard\n",
    "display(Markdown(\"# lightCtrl\"))\n",
    "box = widgets.HBox([btn1, btn2])\n",
    "sw = widgets.VBox([led0, led1, led2, led3, out,text])\n",
    "box2 = widgets.VBox([sw, box])\n",
    "display(box2)\n"
   ]
  },
  {
   "cell_type": "code",
   "execution_count": null,
   "metadata": {},
   "outputs": [],
   "source": []
  },
  {
   "cell_type": "code",
   "execution_count": null,
   "metadata": {},
   "outputs": [],
   "source": []
  },
  {
   "cell_type": "code",
   "execution_count": null,
   "metadata": {},
   "outputs": [],
   "source": []
  },
  {
   "cell_type": "code",
   "execution_count": null,
   "metadata": {},
   "outputs": [],
   "source": []
  }
 ],
 "metadata": {
  "kernelspec": {
   "display_name": "Python 3",
   "language": "python",
   "name": "python3"
  },
  "language_info": {
   "codemirror_mode": {
    "name": "ipython",
    "version": 3
   },
   "file_extension": ".py",
   "mimetype": "text/x-python",
   "name": "python",
   "nbconvert_exporter": "python",
   "pygments_lexer": "ipython3",
   "version": "3.8.5"
  }
 },
 "nbformat": 4,
 "nbformat_minor": 5
}
